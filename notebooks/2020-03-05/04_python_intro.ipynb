{
 "cells": [
  {
   "cell_type": "markdown",
   "metadata": {},
   "source": [
    "### Bash overview"
   ]
  },
  {
   "cell_type": "markdown",
   "metadata": {},
   "source": [
    "Useful bash cheatsheet [here](https://github.com/LeCoupa/awesome-cheatsheets/blob/master/languages/bash.sh)"
   ]
  },
  {
   "cell_type": "markdown",
   "metadata": {},
   "source": [
    "### Ipython magics"
   ]
  },
  {
   "cell_type": "markdown",
   "metadata": {},
   "source": [
    "Useful documentation [online](https://ipython.readthedocs.io/en/stable/interactive/magics.html)"
   ]
  },
  {
   "cell_type": "markdown",
   "metadata": {},
   "source": [
    "We can also always just use the help that ipython provides itself:"
   ]
  },
  {
   "cell_type": "raw",
   "metadata": {},
   "source": [
    "%magic"
   ]
  },
  {
   "cell_type": "markdown",
   "metadata": {},
   "source": [
    "Also remember there are lots of references to useful material in week 1 and 2\n",
    "\n",
    "<!--NAVIGATION-->\n",
    "| [Week1](../2020-02-06/01_intro.ipynb) | [Week 2](../2020-02-20/02_computing_overview.ipynb) >"
   ]
  },
  {
   "cell_type": "markdown",
   "metadata": {},
   "source": [
    "# Introduction to python"
   ]
  },
  {
   "cell_type": "markdown",
   "metadata": {},
   "source": [
    "A great place to start when learning python is Jake VanDerPlas's book. Let's download it so that we can work through it interactively..."
   ]
  },
  {
   "cell_type": "code",
   "execution_count": 6,
   "metadata": {},
   "outputs": [
    {
     "name": "stdout",
     "output_type": "stream",
     "text": [
      "/saved/faes_teaching/spring_2020_repo\n",
      "Cloning into 'WhirlwindTourOfPython'...\n",
      "remote: Enumerating objects: 336, done.\u001b[K\n",
      "remote: Total 336 (delta 0), reused 0 (delta 0), pack-reused 336\u001b[K\n",
      "Receiving objects: 100% (336/336), 775.29 KiB | 3.78 MiB/s, done.\n",
      "Resolving deltas: 100% (203/203), done.\n",
      "/saved/faes_teaching/spring_2020_repo/notebooks/2020-03-05\n"
     ]
    }
   ],
   "source": [
    "orig_dir = %pwd\n",
    "%cd ../..\n",
    "!git clone https://github.com/jakevdp/WhirlwindTourOfPython\n",
    "%cd {orig_dir}"
   ]
  },
  {
   "cell_type": "markdown",
   "metadata": {},
   "source": [
    "### Into the whirlwind"
   ]
  },
  {
   "cell_type": "markdown",
   "metadata": {},
   "source": [
    "Now let's working our way through chapter's 1-6 of that book..."
   ]
  },
  {
   "cell_type": "markdown",
   "metadata": {},
   "source": [
    "<!--NAVIGATION-->\n",
    "| [Contents](../../WhirlwindTourOfPython/Index.ipynb) | [Introduction](../../WhirlwindTourOfPython/00-Introduction.ipynb) >"
   ]
  }
 ],
 "metadata": {
  "kernelspec": {
   "display_name": "Python 3",
   "language": "python",
   "name": "python3"
  },
  "language_info": {
   "codemirror_mode": {
    "name": "ipython",
    "version": 3
   },
   "file_extension": ".py",
   "mimetype": "text/x-python",
   "name": "python",
   "nbconvert_exporter": "python",
   "pygments_lexer": "ipython3",
   "version": "3.7.4"
  }
 },
 "nbformat": 4,
 "nbformat_minor": 4
}
