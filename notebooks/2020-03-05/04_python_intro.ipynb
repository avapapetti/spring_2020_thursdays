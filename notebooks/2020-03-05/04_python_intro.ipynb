{
 "cells": [
  {
   "cell_type": "markdown",
   "metadata": {},
   "source": [
    "# Troubleshooting class setup"
   ]
  },
  {
   "cell_type": "markdown",
   "metadata": {},
   "source": [
    "We have worked through bash and git now so people should be comfortable with getting the class notebooks on to their computer. \n",
    "\n",
    "### The basic setup (assuming no pre-existing setup):"
   ]
  },
  {
   "cell_type": "markdown",
   "metadata": {},
   "source": [
    "1. Open a terminal (gitbash on windows)\n",
    "2. Clone the class repository\n",
    "3. Change the directory to the class repository\n",
    "4. Sync the latest notebook into `my_notebooks`\n",
    "4. Start jupyter lab\n",
    "5. Open class notebooks in the `my_notebooks` directory\n",
    "    \n",
    "You should be able to achieve this by using the following commands:"
   ]
  },
  {
   "cell_type": "raw",
   "metadata": {},
   "source": [
    "git clone https://github.com/biof309/spring_2020_thursdays.git;\n",
    "cd spring_2020_thursdays;\n",
    "python sync_notebooks.py;\n",
    "jupyter lab"
   ]
  },
  {
   "cell_type": "markdown",
   "metadata": {},
   "source": [
    "### Resuming from a previous week"
   ]
  },
  {
   "cell_type": "markdown",
   "metadata": {},
   "source": [
    "If you have already done this previously you should be able to restart the class by pulling the most recent changes from github. The following command should be enough..."
   ]
  },
  {
   "cell_type": "raw",
   "metadata": {},
   "source": [
    "cd spring_2020_thursdays;\n",
    "git pull;\n",
    "python sync_notebooks.py;\n",
    "jupyter lab"
   ]
  },
  {
   "cell_type": "markdown",
   "metadata": {},
   "source": [
    "### Ooops git is giving me an error"
   ]
  },
  {
   "cell_type": "markdown",
   "metadata": {},
   "source": [
    "If you spend a class working in the `notebooks` directory (instead of the `my_notebooks` directory) then it is possible that you can not successfully execute `git pull`. You have a few choices that are listed below. Note that the cells below will not execute because they are not code cells. You should execute them as bash commands within the class repository.    "
   ]
  },
  {
   "cell_type": "markdown",
   "metadata": {},
   "source": [
    "1. Quickly clone the class repository into a fresh directory (note the extra argument to the clone command) and follow the initial setup instructions"
   ]
  },
  {
   "cell_type": "raw",
   "metadata": {},
   "source": [
    "git clone https://github.com/biof309/spring_2020_thursdays.git cloned_again"
   ]
  },
  {
   "cell_type": "markdown",
   "metadata": {},
   "source": [
    "2. Reset the changes in the offending directory and try the git pull command again. For example:"
   ]
  },
  {
   "cell_type": "raw",
   "metadata": {},
   "source": [
    "git checkout HEAD notebooks/2020-02-20"
   ]
  },
  {
   "cell_type": "markdown",
   "metadata": {},
   "source": [
    "3. Create a new branch, commit all your changes, and jump back to master:"
   ]
  },
  {
   "cell_type": "raw",
   "metadata": {},
   "source": [
    "git checkout -b i_did_a_bad_thing\n",
    "git commit -am 'make haphazard commit to allow me to get on with my life'\n",
    "git checkout master"
   ]
  },
  {
   "cell_type": "markdown",
   "metadata": {},
   "source": [
    "4. More aggressively remove all the changes in the repo:"
   ]
  },
  {
   "cell_type": "raw",
   "metadata": {},
   "source": [
    "git reset --hard HEAD"
   ]
  },
  {
   "cell_type": "markdown",
   "metadata": {},
   "source": [
    "## A reminder of some of the basics..."
   ]
  },
  {
   "cell_type": "markdown",
   "metadata": {},
   "source": [
    "### Bash overview"
   ]
  },
  {
   "cell_type": "markdown",
   "metadata": {},
   "source": [
    "Useful bash cheatsheet [here](https://github.com/LeCoupa/awesome-cheatsheets/blob/master/languages/bash.sh)"
   ]
  },
  {
   "cell_type": "markdown",
   "metadata": {},
   "source": [
    "### Ipython magics"
   ]
  },
  {
   "cell_type": "markdown",
   "metadata": {},
   "source": [
    "Useful documentation [online](https://ipython.readthedocs.io/en/stable/interactive/magics.html)"
   ]
  },
  {
   "cell_type": "markdown",
   "metadata": {},
   "source": [
    "We can also always just use the help that ipython provides itself:"
   ]
  },
  {
   "cell_type": "raw",
   "metadata": {},
   "source": [
    "%magic"
   ]
  },
  {
   "cell_type": "markdown",
   "metadata": {},
   "source": [
    "Also remember there are lots of references to useful material in week 1 and 2\n",
    "\n",
    "<!--NAVIGATION-->\n",
    "| [Week1](../2020-02-06/01_intro.ipynb) | [Week 2](../2020-02-20/02_computing_overview.ipynb) >"
   ]
  },
  {
   "cell_type": "markdown",
   "metadata": {},
   "source": [
    "# Introduction to python"
   ]
  },
  {
   "cell_type": "markdown",
   "metadata": {},
   "source": [
    "A great place to start when learning python is Jake VanDerPlas's book. Let's download it so that we can work through it interactively..."
   ]
  },
  {
   "cell_type": "code",
   "execution_count": 6,
   "metadata": {},
   "outputs": [
    {
     "name": "stdout",
     "output_type": "stream",
     "text": [
      "/saved/faes_teaching/spring_2020_repo\n",
      "Cloning into 'WhirlwindTourOfPython'...\n",
      "remote: Enumerating objects: 336, done.\u001b[K\n",
      "remote: Total 336 (delta 0), reused 0 (delta 0), pack-reused 336\u001b[K\n",
      "Receiving objects: 100% (336/336), 775.29 KiB | 3.78 MiB/s, done.\n",
      "Resolving deltas: 100% (203/203), done.\n",
      "/saved/faes_teaching/spring_2020_repo/notebooks/2020-03-05\n"
     ]
    }
   ],
   "source": [
    "orig_dir = %pwd\n",
    "%cd ../..\n",
    "!git clone https://github.com/jakevdp/WhirlwindTourOfPython\n",
    "%cd {orig_dir}"
   ]
  },
  {
   "cell_type": "markdown",
   "metadata": {},
   "source": [
    "### Into the whirlwind"
   ]
  },
  {
   "cell_type": "markdown",
   "metadata": {},
   "source": [
    "Now let's working our way through chapter's 1-6 of that book..."
   ]
  },
  {
   "cell_type": "markdown",
   "metadata": {},
   "source": [
    "<!--NAVIGATION-->\n",
    "| [Contents](../../WhirlwindTourOfPython/Index.ipynb) | [Introduction](../../WhirlwindTourOfPython/00-Introduction.ipynb) >"
   ]
  }
 ],
 "metadata": {
  "kernelspec": {
   "display_name": "Python 3",
   "language": "python",
   "name": "python3"
  },
  "language_info": {
   "codemirror_mode": {
    "name": "ipython",
    "version": 3
   },
   "file_extension": ".py",
   "mimetype": "text/x-python",
   "name": "python",
   "nbconvert_exporter": "python",
   "pygments_lexer": "ipython3",
   "version": "3.7.4"
  }
 },
 "nbformat": 4,
 "nbformat_minor": 4
}
